{
 "cells": [
  {
   "cell_type": "markdown",
   "id": "be4f3aa1-1b5b-4089-8dd4-2db864fc7a1e",
   "metadata": {},
   "source": [
    "# Task 8: The Final Challenge – Interactive QandA  \n",
    "\n",
    "## 1️⃣ If a dating app wanted to expand into rural India, which insights from this dataset would be most valuable?  \n",
    "- **User Distribution:** If most users are from urban areas, it is important to focus on attracting rural users as well.  \n",
    "- **App Usage Trends:** If rural users engage less, introduce features like offline messaging in order to acttract them or keep their interest.  \n",
    "- **Demographics & Preferences:** If rural users prefer certain features (e.g., regional languages), implement them to ensure that they are well engaged.  \n",
    "\n",
    "## 2️⃣ If you were designing a new dating app based on this data, what two features would you add?  \n",
    "1. **Compatibility Score Feature**  \n",
    "   - Uses user preferences, age, and location to suggest the best matches.  \n",
    "2. **Verified Profiles & AI Chatbots**  \n",
    "   - Reduces fake profiles and improves user experience and exhibit a trustworthy nature.  \n",
    "\n",
    "## 3️⃣ What were the biggest data cleaning challenges in this dataset?  \n",
    "- **Duplicate Data:** Some users might appear multiple times.  \n",
    "- **Inconsistent Categorical Values:** Variations like \"Male,\" \"male,\" and \"M\" need standardization.  \n",
    "- **Missing Data:** Some fields might be empty, requiring imputation or removal.  \n",
    "- **Outliers:** Unusual values in **age or app usage frequency** may require special handling."
   ]
  },
  {
   "cell_type": "code",
   "execution_count": null,
   "id": "ede296d4-c2b0-452b-bcbb-d61f4425f3e0",
   "metadata": {},
   "outputs": [],
   "source": []
  }
 ],
 "metadata": {
  "kernelspec": {
   "display_name": "Python 3 (ipykernel)",
   "language": "python",
   "name": "python3"
  },
  "language_info": {
   "codemirror_mode": {
    "name": "ipython",
    "version": 3
   },
   "file_extension": ".py",
   "mimetype": "text/x-python",
   "name": "python",
   "nbconvert_exporter": "python",
   "pygments_lexer": "ipython3",
   "version": "3.12.8"
  }
 },
 "nbformat": 4,
 "nbformat_minor": 5
}
