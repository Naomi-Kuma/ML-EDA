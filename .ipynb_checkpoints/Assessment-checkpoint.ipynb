{
 "cells": [
  {
   "cell_type": "code",
   "execution_count": 1,
   "id": "ccfc38bf-6b61-4c48-a26b-89c9b9595a77",
   "metadata": {},
   "outputs": [],
   "source": [
    "import pandas as pd\n",
    "import numpy as np\n",
    "import matplotlib as plt"
   ]
  },
  {
   "cell_type": "code",
   "execution_count": 2,
   "id": "d1ac4516-ef40-4944-90c4-1fa9f7f580fa",
   "metadata": {},
   "outputs": [],
   "source": [
    "df = pd.read_csv(\"GenZ_DatingApp_Data.csv\")"
   ]
  },
  {
   "cell_type": "code",
   "execution_count": 3,
   "id": "caad0a99-5b97-468a-9caa-92087f07ea17",
   "metadata": {},
   "outputs": [
    {
     "data": {
      "text/html": [
       "<div>\n",
       "<style scoped>\n",
       "    .dataframe tbody tr th:only-of-type {\n",
       "        vertical-align: middle;\n",
       "    }\n",
       "\n",
       "    .dataframe tbody tr th {\n",
       "        vertical-align: top;\n",
       "    }\n",
       "\n",
       "    .dataframe thead th {\n",
       "        text-align: right;\n",
       "    }\n",
       "</style>\n",
       "<table border=\"1\" class=\"dataframe\">\n",
       "  <thead>\n",
       "    <tr style=\"text-align: right;\">\n",
       "      <th></th>\n",
       "      <th>User_ID</th>\n",
       "      <th>Age</th>\n",
       "      <th>Gender</th>\n",
       "      <th>Location</th>\n",
       "      <th>Education</th>\n",
       "      <th>Occupation</th>\n",
       "      <th>Primary_App</th>\n",
       "      <th>Secondary_Apps</th>\n",
       "      <th>Usage_Frequency</th>\n",
       "      <th>Daily_Usage_Time</th>\n",
       "      <th>Reason_for_Using</th>\n",
       "      <th>Satisfaction</th>\n",
       "      <th>Challenges</th>\n",
       "      <th>Desired_Features</th>\n",
       "      <th>Preferred_Communication</th>\n",
       "      <th>Partner_Priorities</th>\n",
       "    </tr>\n",
       "  </thead>\n",
       "  <tbody>\n",
       "    <tr>\n",
       "      <th>0</th>\n",
       "      <td>1</td>\n",
       "      <td>20</td>\n",
       "      <td>Non-binary</td>\n",
       "      <td>Bangalore</td>\n",
       "      <td>Undergraduate</td>\n",
       "      <td>Freelancer</td>\n",
       "      <td>Hinge</td>\n",
       "      <td>Hinge</td>\n",
       "      <td>Monthly</td>\n",
       "      <td>1 hour</td>\n",
       "      <td>Finding a Partner</td>\n",
       "      <td>4</td>\n",
       "      <td>Safety Concerns</td>\n",
       "      <td>Audio Calls</td>\n",
       "      <td>Video Calls</td>\n",
       "      <td>Values &gt; Personality &gt; Appearance</td>\n",
       "    </tr>\n",
       "    <tr>\n",
       "      <th>1</th>\n",
       "      <td>2</td>\n",
       "      <td>24</td>\n",
       "      <td>Female</td>\n",
       "      <td>Delhi</td>\n",
       "      <td>Undergraduate</td>\n",
       "      <td>Part-time Job</td>\n",
       "      <td>Hinge</td>\n",
       "      <td>OkCupid</td>\n",
       "      <td>Weekly</td>\n",
       "      <td>30 minutes</td>\n",
       "      <td>Casual Dating</td>\n",
       "      <td>5</td>\n",
       "      <td>Time-Wasting</td>\n",
       "      <td>Video Calls</td>\n",
       "      <td>Text</td>\n",
       "      <td>Values &gt; Personality &gt; Appearance</td>\n",
       "    </tr>\n",
       "    <tr>\n",
       "      <th>2</th>\n",
       "      <td>3</td>\n",
       "      <td>24</td>\n",
       "      <td>Non-binary</td>\n",
       "      <td>Kolkata</td>\n",
       "      <td>Undergraduate</td>\n",
       "      <td>Intern</td>\n",
       "      <td>NaN</td>\n",
       "      <td>NaN</td>\n",
       "      <td>Weekly</td>\n",
       "      <td>2 hours</td>\n",
       "      <td>Casual Dating</td>\n",
       "      <td>4</td>\n",
       "      <td>Safety Concerns</td>\n",
       "      <td>Detailed Profiles</td>\n",
       "      <td>Text</td>\n",
       "      <td>Values &gt; Personality &gt; Appearance</td>\n",
       "    </tr>\n",
       "    <tr>\n",
       "      <th>3</th>\n",
       "      <td>4</td>\n",
       "      <td>22</td>\n",
       "      <td>Non-binary</td>\n",
       "      <td>Delhi</td>\n",
       "      <td>Graduate</td>\n",
       "      <td>Full-time Job</td>\n",
       "      <td>NaN</td>\n",
       "      <td>OkCupid</td>\n",
       "      <td>Daily</td>\n",
       "      <td>30 minutes</td>\n",
       "      <td>Casual Fun</td>\n",
       "      <td>3</td>\n",
       "      <td>NaN</td>\n",
       "      <td>AI Recommendations</td>\n",
       "      <td>Voice Notes</td>\n",
       "      <td>Personality &gt; Interests &gt; Values</td>\n",
       "    </tr>\n",
       "    <tr>\n",
       "      <th>4</th>\n",
       "      <td>5</td>\n",
       "      <td>18</td>\n",
       "      <td>Male</td>\n",
       "      <td>Delhi</td>\n",
       "      <td>Graduate</td>\n",
       "      <td>Intern</td>\n",
       "      <td>OkCupid</td>\n",
       "      <td>OkCupid</td>\n",
       "      <td>Weekly</td>\n",
       "      <td>2 hours</td>\n",
       "      <td>Casual Fun</td>\n",
       "      <td>4</td>\n",
       "      <td>Safety Concerns</td>\n",
       "      <td>Video Calls</td>\n",
       "      <td>Text</td>\n",
       "      <td>Appearance &gt; Interests &gt; Personality</td>\n",
       "    </tr>\n",
       "  </tbody>\n",
       "</table>\n",
       "</div>"
      ],
      "text/plain": [
       "   User_ID  Age      Gender   Location      Education     Occupation  \\\n",
       "0        1   20  Non-binary  Bangalore  Undergraduate     Freelancer   \n",
       "1        2   24      Female      Delhi  Undergraduate  Part-time Job   \n",
       "2        3   24  Non-binary    Kolkata  Undergraduate         Intern   \n",
       "3        4   22  Non-binary      Delhi       Graduate  Full-time Job   \n",
       "4        5   18        Male      Delhi       Graduate         Intern   \n",
       "\n",
       "  Primary_App Secondary_Apps Usage_Frequency Daily_Usage_Time  \\\n",
       "0       Hinge          Hinge         Monthly           1 hour   \n",
       "1       Hinge        OkCupid          Weekly       30 minutes   \n",
       "2         NaN            NaN          Weekly          2 hours   \n",
       "3         NaN        OkCupid           Daily       30 minutes   \n",
       "4     OkCupid        OkCupid          Weekly          2 hours   \n",
       "\n",
       "    Reason_for_Using  Satisfaction       Challenges    Desired_Features  \\\n",
       "0  Finding a Partner             4  Safety Concerns         Audio Calls   \n",
       "1      Casual Dating             5     Time-Wasting         Video Calls   \n",
       "2      Casual Dating             4  Safety Concerns   Detailed Profiles   \n",
       "3         Casual Fun             3              NaN  AI Recommendations   \n",
       "4         Casual Fun             4  Safety Concerns         Video Calls   \n",
       "\n",
       "  Preferred_Communication                    Partner_Priorities  \n",
       "0             Video Calls     Values > Personality > Appearance  \n",
       "1                    Text     Values > Personality > Appearance  \n",
       "2                    Text     Values > Personality > Appearance  \n",
       "3             Voice Notes      Personality > Interests > Values  \n",
       "4                    Text  Appearance > Interests > Personality  "
      ]
     },
     "execution_count": 3,
     "metadata": {},
     "output_type": "execute_result"
    }
   ],
   "source": [
    "df.head()"
   ]
  },
  {
   "cell_type": "code",
   "execution_count": 4,
   "id": "4725918f-b83f-420f-9d74-68193695e1f2",
   "metadata": {},
   "outputs": [
    {
     "name": "stdout",
     "output_type": "stream",
     "text": [
      "Number of duplicate rows: 0\n"
     ]
    }
   ],
   "source": [
    "# Check for duplicate rows\n",
    "duplicate_rows = df.duplicated().sum()\n",
    "print(f\"Number of duplicate rows: {duplicate_rows}\")"
   ]
  },
  {
   "cell_type": "code",
   "execution_count": 5,
   "id": "deb91235-f8f9-474c-a5df-095e12e48b04",
   "metadata": {},
   "outputs": [
    {
     "name": "stdout",
     "output_type": "stream",
     "text": [
      "\n",
      "Unique values in categorical columns:\n",
      "Gender: ['Non-binary' 'Female' 'Male']\n",
      "Location: ['Bangalore' 'Delhi' 'Kolkata' 'Mumbai' 'Chennai' 'Pune' 'Hyderabad']\n",
      "Education: ['Undergraduate' 'Graduate' 'Postgraduate']\n",
      "Occupation: ['Freelancer' 'Part-time Job' 'Intern' 'Full-time Job' 'Student']\n",
      "Primary_App: ['Hinge' nan 'OkCupid' 'Tinder' 'Bumble']\n",
      "Secondary_Apps: ['Hinge' 'OkCupid' nan 'Tinder' 'Bumble']\n",
      "Usage_Frequency: ['Monthly' 'Weekly' 'Daily']\n",
      "Daily_Usage_Time: ['1 hour' '30 minutes' '2 hours' '1.5 hours' '3 hours']\n",
      "Reason_for_Using: ['Finding a Partner' 'Casual Dating' 'Casual Fun' 'Social Interaction']\n",
      "Challenges: ['Safety Concerns' 'Time-Wasting' nan 'Lack of Genuine Matches']\n",
      "Desired_Features: ['Audio Calls' 'Video Calls' 'Detailed Profiles' 'AI Recommendations'\n",
      " 'Location-Based Matching']\n",
      "Preferred_Communication: ['Video Calls' 'Text' 'Voice Notes']\n",
      "Partner_Priorities: ['Values > Personality > Appearance' 'Personality > Interests > Values'\n",
      " 'Appearance > Interests > Personality']\n"
     ]
    }
   ],
   "source": [
    "# Check for inconsistencies in categorical values\n",
    "print(\"\\nUnique values in categorical columns:\")\n",
    "for col in df.select_dtypes(include=\"object\").columns:\n",
    "    print(f\"{col}: {df[col].unique()}\")"
   ]
  },
  {
   "cell_type": "code",
   "execution_count": 6,
   "id": "028a160f-9c7e-4f09-8259-8127e7acd265",
   "metadata": {},
   "outputs": [
    {
     "name": "stdout",
     "output_type": "stream",
     "text": [
      "\n",
      "Missing values in each column:\n",
      "Primary_App       107\n",
      "Secondary_Apps    114\n",
      "Challenges        117\n",
      "dtype: int64\n"
     ]
    }
   ],
   "source": [
    "# Check for missing values\n",
    "missing_values = df.isnull().sum()\n",
    "print(\"\\nMissing values in each column:\")\n",
    "print(missing_values[missing_values > 0])"
   ]
  },
  {
   "cell_type": "code",
   "execution_count": 10,
   "id": "fddbe15c-0238-462b-9035-ef3be4336c36",
   "metadata": {},
   "outputs": [],
   "source": [
    "df_cleaned = df.dropna()"
   ]
  },
  {
   "cell_type": "code",
   "execution_count": 11,
   "id": "30644a08-162a-45e5-b78c-88cda0190548",
   "metadata": {},
   "outputs": [
    {
     "name": "stdout",
     "output_type": "stream",
     "text": [
      "\n",
      "Missing values in each column:\n",
      "Primary_App       107\n",
      "Secondary_Apps    114\n",
      "Challenges        117\n",
      "dtype: int64\n"
     ]
    }
   ],
   "source": [
    "missing_values = df.isnull().sum()\n",
    "print(\"\\nMissing values in each column:\")\n",
    "print(missing_values[missing_values > 0])"
   ]
  },
  {
   "cell_type": "code",
   "execution_count": 15,
   "id": "5020e962-2938-44d7-b624-505103d9d645",
   "metadata": {},
   "outputs": [
    {
     "ename": "KeyError",
     "evalue": "['column']",
     "output_type": "error",
     "traceback": [
      "\u001b[1;31m---------------------------------------------------------------------------\u001b[0m",
      "\u001b[1;31mKeyError\u001b[0m                                  Traceback (most recent call last)",
      "\u001b[1;32m~\\AppData\\Local\\Temp\\ipykernel_11840\\3244968739.py\u001b[0m in \u001b[0;36m?\u001b[1;34m()\u001b[0m\n\u001b[1;32m----> 1\u001b[1;33m \u001b[0mdf\u001b[0m\u001b[1;33m.\u001b[0m\u001b[0mdropna\u001b[0m\u001b[1;33m(\u001b[0m\u001b[0msubset\u001b[0m\u001b[1;33m=\u001b[0m\u001b[1;33m[\u001b[0m\u001b[1;34m'column'\u001b[0m\u001b[1;33m]\u001b[0m\u001b[1;33m)\u001b[0m \u001b[1;32mor\u001b[0m \u001b[0mdf\u001b[0m\u001b[1;33m[\u001b[0m\u001b[1;34m'column'\u001b[0m\u001b[1;33m]\u001b[0m\u001b[1;33m.\u001b[0m\u001b[0mfillna\u001b[0m\u001b[1;33m(\u001b[0m\u001b[1;34m'Unknown'\u001b[0m\u001b[1;33m,\u001b[0m \u001b[0minplace\u001b[0m\u001b[1;33m=\u001b[0m\u001b[1;32mTrue\u001b[0m\u001b[1;33m)\u001b[0m\u001b[1;33m\u001b[0m\u001b[1;33m\u001b[0m\u001b[0m\n\u001b[0m",
      "\u001b[1;32m~\\anaconda3\\envs\\ML\\Lib\\site-packages\\pandas\\core\\frame.py\u001b[0m in \u001b[0;36m?\u001b[1;34m(self, axis, how, thresh, subset, inplace, ignore_index)\u001b[0m\n\u001b[0;32m   6666\u001b[0m             \u001b[0max\u001b[0m \u001b[1;33m=\u001b[0m \u001b[0mself\u001b[0m\u001b[1;33m.\u001b[0m\u001b[0m_get_axis\u001b[0m\u001b[1;33m(\u001b[0m\u001b[0magg_axis\u001b[0m\u001b[1;33m)\u001b[0m\u001b[1;33m\u001b[0m\u001b[1;33m\u001b[0m\u001b[0m\n\u001b[0;32m   6667\u001b[0m             \u001b[0mindices\u001b[0m \u001b[1;33m=\u001b[0m \u001b[0max\u001b[0m\u001b[1;33m.\u001b[0m\u001b[0mget_indexer_for\u001b[0m\u001b[1;33m(\u001b[0m\u001b[0msubset\u001b[0m\u001b[1;33m)\u001b[0m\u001b[1;33m\u001b[0m\u001b[1;33m\u001b[0m\u001b[0m\n\u001b[0;32m   6668\u001b[0m             \u001b[0mcheck\u001b[0m \u001b[1;33m=\u001b[0m \u001b[0mindices\u001b[0m \u001b[1;33m==\u001b[0m \u001b[1;33m-\u001b[0m\u001b[1;36m1\u001b[0m\u001b[1;33m\u001b[0m\u001b[1;33m\u001b[0m\u001b[0m\n\u001b[0;32m   6669\u001b[0m             \u001b[1;32mif\u001b[0m \u001b[0mcheck\u001b[0m\u001b[1;33m.\u001b[0m\u001b[0many\u001b[0m\u001b[1;33m(\u001b[0m\u001b[1;33m)\u001b[0m\u001b[1;33m:\u001b[0m\u001b[1;33m\u001b[0m\u001b[1;33m\u001b[0m\u001b[0m\n\u001b[1;32m-> 6670\u001b[1;33m                 \u001b[1;32mraise\u001b[0m \u001b[0mKeyError\u001b[0m\u001b[1;33m(\u001b[0m\u001b[0mnp\u001b[0m\u001b[1;33m.\u001b[0m\u001b[0marray\u001b[0m\u001b[1;33m(\u001b[0m\u001b[0msubset\u001b[0m\u001b[1;33m)\u001b[0m\u001b[1;33m[\u001b[0m\u001b[0mcheck\u001b[0m\u001b[1;33m]\u001b[0m\u001b[1;33m.\u001b[0m\u001b[0mtolist\u001b[0m\u001b[1;33m(\u001b[0m\u001b[1;33m)\u001b[0m\u001b[1;33m)\u001b[0m\u001b[1;33m\u001b[0m\u001b[1;33m\u001b[0m\u001b[0m\n\u001b[0m\u001b[0;32m   6671\u001b[0m             \u001b[0magg_obj\u001b[0m \u001b[1;33m=\u001b[0m \u001b[0mself\u001b[0m\u001b[1;33m.\u001b[0m\u001b[0mtake\u001b[0m\u001b[1;33m(\u001b[0m\u001b[0mindices\u001b[0m\u001b[1;33m,\u001b[0m \u001b[0maxis\u001b[0m\u001b[1;33m=\u001b[0m\u001b[0magg_axis\u001b[0m\u001b[1;33m)\u001b[0m\u001b[1;33m\u001b[0m\u001b[1;33m\u001b[0m\u001b[0m\n\u001b[0;32m   6672\u001b[0m \u001b[1;33m\u001b[0m\u001b[0m\n\u001b[0;32m   6673\u001b[0m         \u001b[1;32mif\u001b[0m \u001b[0mthresh\u001b[0m \u001b[1;32mis\u001b[0m \u001b[1;32mnot\u001b[0m \u001b[0mlib\u001b[0m\u001b[1;33m.\u001b[0m\u001b[0mno_default\u001b[0m\u001b[1;33m:\u001b[0m\u001b[1;33m\u001b[0m\u001b[1;33m\u001b[0m\u001b[0m\n",
      "\u001b[1;31mKeyError\u001b[0m: ['column']"
     ]
    }
   ],
   "source": [
    "df.dropna(subset=['column']) or df['column'].fillna('Unknown', inplace=True)"
   ]
  },
  {
   "cell_type": "code",
   "execution_count": null,
   "id": "e920b80c-5f20-436c-8b1d-65e267d794ca",
   "metadata": {},
   "outputs": [],
   "source": []
  }
 ],
 "metadata": {
  "kernelspec": {
   "display_name": "Python 3 (ipykernel)",
   "language": "python",
   "name": "python3"
  },
  "language_info": {
   "codemirror_mode": {
    "name": "ipython",
    "version": 3
   },
   "file_extension": ".py",
   "mimetype": "text/x-python",
   "name": "python",
   "nbconvert_exporter": "python",
   "pygments_lexer": "ipython3",
   "version": "3.12.8"
  }
 },
 "nbformat": 4,
 "nbformat_minor": 5
}
