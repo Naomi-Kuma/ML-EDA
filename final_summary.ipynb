{
 "cells": [
  {
   "cell_type": "code",
   "execution_count": 1,
   "id": "73ce4786-17a5-4cba-8244-0265b43dcb1e",
   "metadata": {},
   "outputs": [
    {
     "data": {
      "text/html": [
       "<div>\n",
       "<style scoped>\n",
       "    .dataframe tbody tr th:only-of-type {\n",
       "        vertical-align: middle;\n",
       "    }\n",
       "\n",
       "    .dataframe tbody tr th {\n",
       "        vertical-align: top;\n",
       "    }\n",
       "\n",
       "    .dataframe thead th {\n",
       "        text-align: right;\n",
       "    }\n",
       "</style>\n",
       "<table border=\"1\" class=\"dataframe\">\n",
       "  <thead>\n",
       "    <tr style=\"text-align: right;\">\n",
       "      <th></th>\n",
       "      <th>Metric</th>\n",
       "      <th>Value</th>\n",
       "    </tr>\n",
       "  </thead>\n",
       "  <tbody>\n",
       "    <tr>\n",
       "      <th>0</th>\n",
       "      <td>Total Users</td>\n",
       "      <td>500</td>\n",
       "    </tr>\n",
       "    <tr>\n",
       "      <th>1</th>\n",
       "      <td>Total Features</td>\n",
       "      <td>27</td>\n",
       "    </tr>\n",
       "    <tr>\n",
       "      <th>2</th>\n",
       "      <td>Gender Breakdown</td>\n",
       "      <td>{False: 329, True: 171}</td>\n",
       "    </tr>\n",
       "    <tr>\n",
       "      <th>3</th>\n",
       "      <td>Average Age</td>\n",
       "      <td>0.51</td>\n",
       "    </tr>\n",
       "    <tr>\n",
       "      <th>4</th>\n",
       "      <td>Average Daily Usage (Minutes)</td>\n",
       "      <td>0.18</td>\n",
       "    </tr>\n",
       "  </tbody>\n",
       "</table>\n",
       "</div>"
      ],
      "text/plain": [
       "                          Metric                    Value\n",
       "0                    Total Users                      500\n",
       "1                 Total Features                       27\n",
       "2               Gender Breakdown  {False: 329, True: 171}\n",
       "3                    Average Age                     0.51\n",
       "4  Average Daily Usage (Minutes)                     0.18"
      ]
     },
     "execution_count": 1,
     "metadata": {},
     "output_type": "execute_result"
    }
   ],
   "source": [
    "import pandas as pd\n",
    "\n",
    "# Load the final dataset\n",
    "df = pd.read_csv(\"feature_engineered_data.csv\")\n",
    "\n",
    "# Basic dataset summary\n",
    "summary = {\n",
    "    \"Total Users\": df.shape[0],\n",
    "    \"Total Features\": df.shape[1],\n",
    "    \"Gender Breakdown\": df[\"Gender_Male\"].value_counts().to_dict() if \"Gender_Male\" in df.columns else \"N/A\",\n",
    "    \"Average Age\": round(df[\"Age\"].mean(), 2),\n",
    "    \"Average Daily Usage (Minutes)\": round(df[\"Daily_Usage_Time\"].mean(), 2),\n",
    "}\n",
    "\n",
    "# Convert summary to DataFrame and save\n",
    "summary_df = pd.DataFrame(list(summary.items()), columns=[\"Metric\", \"Value\"])\n",
    "summary_df.to_csv(\"final_summary.csv\", index=False)\n",
    "\n",
    "# Display summary\n",
    "summary_df"
   ]
  },
  {
   "cell_type": "code",
   "execution_count": null,
   "id": "7bc25969-901c-44d7-9954-8e5eba6c46b3",
   "metadata": {},
   "outputs": [],
   "source": []
  }
 ],
 "metadata": {
  "kernelspec": {
   "display_name": "Python 3 (ipykernel)",
   "language": "python",
   "name": "python3"
  },
  "language_info": {
   "codemirror_mode": {
    "name": "ipython",
    "version": 3
   },
   "file_extension": ".py",
   "mimetype": "text/x-python",
   "name": "python",
   "nbconvert_exporter": "python",
   "pygments_lexer": "ipython3",
   "version": "3.12.8"
  }
 },
 "nbformat": 4,
 "nbformat_minor": 5
}
