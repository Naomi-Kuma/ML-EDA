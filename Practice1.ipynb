{
 "cells": [
  {
   "cell_type": "code",
   "execution_count": 4,
   "id": "6a8eb731-f8ba-406a-9faf-d8ce4db56665",
   "metadata": {},
   "outputs": [],
   "source": [
    "import pandas as pd\n",
    "import numpy as np\n",
    "import matplotlib as plt"
   ]
  },
  {
   "cell_type": "code",
   "execution_count": 3,
   "id": "7c328e88-c95c-4886-b58d-cc2a03500faa",
   "metadata": {},
   "outputs": [
    {
     "name": "stdout",
     "output_type": "stream",
     "text": [
      "Collecting matplotlib\n",
      "  Downloading matplotlib-3.10.0-cp312-cp312-win_amd64.whl.metadata (11 kB)\n",
      "Collecting contourpy>=1.0.1 (from matplotlib)\n",
      "  Downloading contourpy-1.3.1-cp312-cp312-win_amd64.whl.metadata (5.4 kB)\n",
      "Collecting cycler>=0.10 (from matplotlib)\n",
      "  Downloading cycler-0.12.1-py3-none-any.whl.metadata (3.8 kB)\n",
      "Collecting fonttools>=4.22.0 (from matplotlib)\n",
      "  Downloading fonttools-4.55.8-cp312-cp312-win_amd64.whl.metadata (103 kB)\n",
      "Collecting kiwisolver>=1.3.1 (from matplotlib)\n",
      "  Downloading kiwisolver-1.4.8-cp312-cp312-win_amd64.whl.metadata (6.3 kB)\n",
      "Requirement already satisfied: numpy>=1.23 in c:\\users\\kuman\\anaconda3\\envs\\ml\\lib\\site-packages (from matplotlib) (2.2.1)\n",
      "Requirement already satisfied: packaging>=20.0 in c:\\users\\kuman\\anaconda3\\envs\\ml\\lib\\site-packages (from matplotlib) (24.2)\n",
      "Collecting pillow>=8 (from matplotlib)\n",
      "  Downloading pillow-11.1.0-cp312-cp312-win_amd64.whl.metadata (9.3 kB)\n",
      "Collecting pyparsing>=2.3.1 (from matplotlib)\n",
      "  Downloading pyparsing-3.2.1-py3-none-any.whl.metadata (5.0 kB)\n",
      "Requirement already satisfied: python-dateutil>=2.7 in c:\\users\\kuman\\anaconda3\\envs\\ml\\lib\\site-packages (from matplotlib) (2.9.0.post0)\n",
      "Requirement already satisfied: six>=1.5 in c:\\users\\kuman\\anaconda3\\envs\\ml\\lib\\site-packages (from python-dateutil>=2.7->matplotlib) (1.16.0)\n",
      "Downloading matplotlib-3.10.0-cp312-cp312-win_amd64.whl (8.0 MB)\n",
      "   ---------------------------------------- 0.0/8.0 MB ? eta -:--:--\n",
      "   ---------------------------------------- 0.0/8.0 MB ? eta -:--:--\n",
      "   ---------------------------------------- 0.0/8.0 MB ? eta -:--:--\n",
      "   ---------------------------------------- 0.0/8.0 MB ? eta -:--:--\n",
      "   ---------------------------------------- 0.0/8.0 MB ? eta -:--:--\n",
      "   ---------------------------------------- 0.0/8.0 MB ? eta -:--:--\n",
      "   - -------------------------------------- 0.3/8.0 MB ? eta -:--:--\n",
      "   - -------------------------------------- 0.3/8.0 MB ? eta -:--:--\n",
      "   - -------------------------------------- 0.3/8.0 MB ? eta -:--:--\n",
      "   -- ------------------------------------- 0.5/8.0 MB 598.5 kB/s eta 0:00:13\n",
      "   --- ------------------------------------ 0.8/8.0 MB 644.9 kB/s eta 0:00:12\n",
      "   --- ------------------------------------ 0.8/8.0 MB 644.9 kB/s eta 0:00:12\n",
      "   ----- ---------------------------------- 1.0/8.0 MB 671.0 kB/s eta 0:00:11\n",
      "   ------ --------------------------------- 1.3/8.0 MB 753.8 kB/s eta 0:00:09\n",
      "   ------- -------------------------------- 1.6/8.0 MB 806.6 kB/s eta 0:00:09\n",
      "   --------- ------------------------------ 1.8/8.0 MB 818.3 kB/s eta 0:00:08\n",
      "   --------- ------------------------------ 1.8/8.0 MB 818.3 kB/s eta 0:00:08\n",
      "   ---------- ----------------------------- 2.1/8.0 MB 827.0 kB/s eta 0:00:08\n",
      "   ----------- ---------------------------- 2.4/8.0 MB 849.4 kB/s eta 0:00:07\n",
      "   ------------- -------------------------- 2.6/8.0 MB 862.6 kB/s eta 0:00:07\n",
      "   -------------- ------------------------- 2.9/8.0 MB 887.7 kB/s eta 0:00:06\n",
      "   --------------- ------------------------ 3.1/8.0 MB 913.4 kB/s eta 0:00:06\n",
      "   ---------------- ----------------------- 3.4/8.0 MB 949.5 kB/s eta 0:00:05\n",
      "   ------------------ --------------------- 3.7/8.0 MB 969.2 kB/s eta 0:00:05\n",
      "   -------------------- ------------------- 4.2/8.0 MB 1.0 MB/s eta 0:00:04\n",
      "   ---------------------- ----------------- 4.5/8.0 MB 1.1 MB/s eta 0:00:04\n",
      "   ----------------------- ---------------- 4.7/8.0 MB 1.1 MB/s eta 0:00:04\n",
      "   ------------------------ --------------- 5.0/8.0 MB 1.1 MB/s eta 0:00:03\n",
      "   -------------------------- ------------- 5.2/8.0 MB 1.1 MB/s eta 0:00:03\n",
      "   --------------------------- ------------ 5.5/8.0 MB 1.1 MB/s eta 0:00:03\n",
      "   ---------------------------- ----------- 5.8/8.0 MB 1.1 MB/s eta 0:00:03\n",
      "   ----------------------------- ---------- 6.0/8.0 MB 1.1 MB/s eta 0:00:02\n",
      "   ------------------------------- -------- 6.3/8.0 MB 1.1 MB/s eta 0:00:02\n",
      "   -------------------------------- ------- 6.6/8.0 MB 1.1 MB/s eta 0:00:02\n",
      "   --------------------------------- ------ 6.8/8.0 MB 1.1 MB/s eta 0:00:02\n",
      "   ----------------------------------- ---- 7.1/8.0 MB 1.1 MB/s eta 0:00:01\n",
      "   ------------------------------------ --- 7.3/8.0 MB 1.1 MB/s eta 0:00:01\n",
      "   ------------------------------------- -- 7.6/8.0 MB 1.1 MB/s eta 0:00:01\n",
      "   ------------------------------------- -- 7.6/8.0 MB 1.1 MB/s eta 0:00:01\n",
      "   ---------------------------------------  7.9/8.0 MB 1.1 MB/s eta 0:00:01\n",
      "   ---------------------------------------  7.9/8.0 MB 1.1 MB/s eta 0:00:01\n",
      "   ---------------------------------------- 8.0/8.0 MB 1.1 MB/s eta 0:00:00\n",
      "Downloading contourpy-1.3.1-cp312-cp312-win_amd64.whl (220 kB)\n",
      "Downloading cycler-0.12.1-py3-none-any.whl (8.3 kB)\n",
      "Downloading fonttools-4.55.8-cp312-cp312-win_amd64.whl (2.2 MB)\n",
      "   ---------------------------------------- 0.0/2.2 MB ? eta -:--:--\n",
      "   ---------------------------------------- 0.0/2.2 MB ? eta -:--:--\n",
      "   ---- ----------------------------------- 0.3/2.2 MB ? eta -:--:--\n",
      "   -------------- ------------------------- 0.8/2.2 MB 1.9 MB/s eta 0:00:01\n",
      "   ----------------------- ---------------- 1.3/2.2 MB 2.0 MB/s eta 0:00:01\n",
      "   ---------------------------- ----------- 1.6/2.2 MB 2.1 MB/s eta 0:00:01\n",
      "   -------------------------------------- - 2.1/2.2 MB 2.0 MB/s eta 0:00:01\n",
      "   -------------------------------------- - 2.1/2.2 MB 2.0 MB/s eta 0:00:01\n",
      "   ---------------------------------------- 2.2/2.2 MB 1.5 MB/s eta 0:00:00\n",
      "Downloading kiwisolver-1.4.8-cp312-cp312-win_amd64.whl (71 kB)\n",
      "Downloading pillow-11.1.0-cp312-cp312-win_amd64.whl (2.6 MB)\n",
      "   ---------------------------------------- 0.0/2.6 MB ? eta -:--:--\n",
      "   ---------------------------------------- 0.0/2.6 MB ? eta -:--:--\n",
      "   --- ------------------------------------ 0.3/2.6 MB ? eta -:--:--\n",
      "   ------- -------------------------------- 0.5/2.6 MB 985.5 kB/s eta 0:00:03\n",
      "   ----------- ---------------------------- 0.8/2.6 MB 1.2 MB/s eta 0:00:02\n",
      "   --------------- ------------------------ 1.0/2.6 MB 1.2 MB/s eta 0:00:02\n",
      "   ------------------- -------------------- 1.3/2.6 MB 1.2 MB/s eta 0:00:02\n",
      "   ----------------------- ---------------- 1.6/2.6 MB 1.1 MB/s eta 0:00:01\n",
      "   --------------------------- ------------ 1.8/2.6 MB 1.1 MB/s eta 0:00:01\n",
      "   --------------------------- ------------ 1.8/2.6 MB 1.1 MB/s eta 0:00:01\n",
      "   ------------------------------- -------- 2.1/2.6 MB 1.1 MB/s eta 0:00:01\n",
      "   ----------------------------------- ---- 2.4/2.6 MB 1.1 MB/s eta 0:00:01\n",
      "   ---------------------------------------  2.6/2.6 MB 1.1 MB/s eta 0:00:01\n",
      "   ---------------------------------------- 2.6/2.6 MB 945.7 kB/s eta 0:00:00\n",
      "Downloading pyparsing-3.2.1-py3-none-any.whl (107 kB)\n",
      "Installing collected packages: pyparsing, pillow, kiwisolver, fonttools, cycler, contourpy, matplotlib\n",
      "Successfully installed contourpy-1.3.1 cycler-0.12.1 fonttools-4.55.8 kiwisolver-1.4.8 matplotlib-3.10.0 pillow-11.1.0 pyparsing-3.2.1\n"
     ]
    }
   ],
   "source": [
    "!pip install matplotlib"
   ]
  },
  {
   "cell_type": "code",
   "execution_count": 5,
   "id": "cd3ffb07-3e98-4bf4-a49c-a68abc17f9d3",
   "metadata": {},
   "outputs": [],
   "source": [
    "dating = pd.read_csv('GenZ_DatingApp_Data.csv')"
   ]
  },
  {
   "cell_type": "code",
   "execution_count": 6,
   "id": "0115bb94-37ed-4e55-a6ef-12f35f2ede23",
   "metadata": {},
   "outputs": [
    {
     "data": {
      "text/plain": [
       "User_ID                     0.0\n",
       "Age                         0.0\n",
       "Gender                      0.0\n",
       "Location                    0.0\n",
       "Education                   0.0\n",
       "Occupation                  0.0\n",
       "Primary_App                21.4\n",
       "Secondary_Apps             22.8\n",
       "Usage_Frequency             0.0\n",
       "Daily_Usage_Time            0.0\n",
       "Reason_for_Using            0.0\n",
       "Satisfaction                0.0\n",
       "Challenges                 23.4\n",
       "Desired_Features            0.0\n",
       "Preferred_Communication     0.0\n",
       "Partner_Priorities          0.0\n",
       "dtype: float64"
      ]
     },
     "execution_count": 6,
     "metadata": {},
     "output_type": "execute_result"
    }
   ],
   "source": [
    "dating.isnull().mean() * 100"
   ]
  },
  {
   "cell_type": "code",
   "execution_count": 8,
   "id": "e21339c2-8c27-40fb-af2b-5eb61021c371",
   "metadata": {},
   "outputs": [
    {
     "data": {
      "text/html": [
       "<div>\n",
       "<style scoped>\n",
       "    .dataframe tbody tr th:only-of-type {\n",
       "        vertical-align: middle;\n",
       "    }\n",
       "\n",
       "    .dataframe tbody tr th {\n",
       "        vertical-align: top;\n",
       "    }\n",
       "\n",
       "    .dataframe thead th {\n",
       "        text-align: right;\n",
       "    }\n",
       "</style>\n",
       "<table border=\"1\" class=\"dataframe\">\n",
       "  <thead>\n",
       "    <tr style=\"text-align: right;\">\n",
       "      <th></th>\n",
       "      <th>User_ID</th>\n",
       "      <th>Age</th>\n",
       "      <th>Gender</th>\n",
       "      <th>Location</th>\n",
       "      <th>Education</th>\n",
       "      <th>Occupation</th>\n",
       "      <th>Primary_App</th>\n",
       "      <th>Secondary_Apps</th>\n",
       "      <th>Usage_Frequency</th>\n",
       "      <th>Daily_Usage_Time</th>\n",
       "      <th>Reason_for_Using</th>\n",
       "      <th>Satisfaction</th>\n",
       "      <th>Challenges</th>\n",
       "      <th>Desired_Features</th>\n",
       "      <th>Preferred_Communication</th>\n",
       "      <th>Partner_Priorities</th>\n",
       "    </tr>\n",
       "  </thead>\n",
       "  <tbody>\n",
       "    <tr>\n",
       "      <th>2</th>\n",
       "      <td>3</td>\n",
       "      <td>24</td>\n",
       "      <td>Non-binary</td>\n",
       "      <td>Kolkata</td>\n",
       "      <td>Undergraduate</td>\n",
       "      <td>Intern</td>\n",
       "      <td>NaN</td>\n",
       "      <td>NaN</td>\n",
       "      <td>Weekly</td>\n",
       "      <td>2 hours</td>\n",
       "      <td>Casual Dating</td>\n",
       "      <td>4</td>\n",
       "      <td>Safety Concerns</td>\n",
       "      <td>Detailed Profiles</td>\n",
       "      <td>Text</td>\n",
       "      <td>Values &gt; Personality &gt; Appearance</td>\n",
       "    </tr>\n",
       "    <tr>\n",
       "      <th>3</th>\n",
       "      <td>4</td>\n",
       "      <td>22</td>\n",
       "      <td>Non-binary</td>\n",
       "      <td>Delhi</td>\n",
       "      <td>Graduate</td>\n",
       "      <td>Full-time Job</td>\n",
       "      <td>NaN</td>\n",
       "      <td>OkCupid</td>\n",
       "      <td>Daily</td>\n",
       "      <td>30 minutes</td>\n",
       "      <td>Casual Fun</td>\n",
       "      <td>3</td>\n",
       "      <td>NaN</td>\n",
       "      <td>AI Recommendations</td>\n",
       "      <td>Voice Notes</td>\n",
       "      <td>Personality &gt; Interests &gt; Values</td>\n",
       "    </tr>\n",
       "    <tr>\n",
       "      <th>5</th>\n",
       "      <td>6</td>\n",
       "      <td>23</td>\n",
       "      <td>Female</td>\n",
       "      <td>Mumbai</td>\n",
       "      <td>Undergraduate</td>\n",
       "      <td>Student</td>\n",
       "      <td>OkCupid</td>\n",
       "      <td>NaN</td>\n",
       "      <td>Daily</td>\n",
       "      <td>1.5 hours</td>\n",
       "      <td>Casual Dating</td>\n",
       "      <td>2</td>\n",
       "      <td>NaN</td>\n",
       "      <td>Audio Calls</td>\n",
       "      <td>Video Calls</td>\n",
       "      <td>Values &gt; Personality &gt; Appearance</td>\n",
       "    </tr>\n",
       "    <tr>\n",
       "      <th>10</th>\n",
       "      <td>11</td>\n",
       "      <td>18</td>\n",
       "      <td>Female</td>\n",
       "      <td>Hyderabad</td>\n",
       "      <td>Postgraduate</td>\n",
       "      <td>Full-time Job</td>\n",
       "      <td>Tinder</td>\n",
       "      <td>Hinge</td>\n",
       "      <td>Daily</td>\n",
       "      <td>1 hour</td>\n",
       "      <td>Social Interaction</td>\n",
       "      <td>1</td>\n",
       "      <td>NaN</td>\n",
       "      <td>Location-Based Matching</td>\n",
       "      <td>Voice Notes</td>\n",
       "      <td>Appearance &gt; Interests &gt; Personality</td>\n",
       "    </tr>\n",
       "    <tr>\n",
       "      <th>11</th>\n",
       "      <td>12</td>\n",
       "      <td>21</td>\n",
       "      <td>Male</td>\n",
       "      <td>Delhi</td>\n",
       "      <td>Undergraduate</td>\n",
       "      <td>Part-time Job</td>\n",
       "      <td>NaN</td>\n",
       "      <td>NaN</td>\n",
       "      <td>Monthly</td>\n",
       "      <td>3 hours</td>\n",
       "      <td>Finding a Partner</td>\n",
       "      <td>1</td>\n",
       "      <td>NaN</td>\n",
       "      <td>Audio Calls</td>\n",
       "      <td>Voice Notes</td>\n",
       "      <td>Appearance &gt; Interests &gt; Personality</td>\n",
       "    </tr>\n",
       "    <tr>\n",
       "      <th>...</th>\n",
       "      <td>...</td>\n",
       "      <td>...</td>\n",
       "      <td>...</td>\n",
       "      <td>...</td>\n",
       "      <td>...</td>\n",
       "      <td>...</td>\n",
       "      <td>...</td>\n",
       "      <td>...</td>\n",
       "      <td>...</td>\n",
       "      <td>...</td>\n",
       "      <td>...</td>\n",
       "      <td>...</td>\n",
       "      <td>...</td>\n",
       "      <td>...</td>\n",
       "      <td>...</td>\n",
       "      <td>...</td>\n",
       "    </tr>\n",
       "    <tr>\n",
       "      <th>491</th>\n",
       "      <td>492</td>\n",
       "      <td>24</td>\n",
       "      <td>Female</td>\n",
       "      <td>Mumbai</td>\n",
       "      <td>Undergraduate</td>\n",
       "      <td>Part-time Job</td>\n",
       "      <td>Bumble</td>\n",
       "      <td>NaN</td>\n",
       "      <td>Monthly</td>\n",
       "      <td>1 hour</td>\n",
       "      <td>Casual Fun</td>\n",
       "      <td>5</td>\n",
       "      <td>Safety Concerns</td>\n",
       "      <td>Audio Calls</td>\n",
       "      <td>Voice Notes</td>\n",
       "      <td>Appearance &gt; Interests &gt; Personality</td>\n",
       "    </tr>\n",
       "    <tr>\n",
       "      <th>493</th>\n",
       "      <td>494</td>\n",
       "      <td>20</td>\n",
       "      <td>Male</td>\n",
       "      <td>Mumbai</td>\n",
       "      <td>Undergraduate</td>\n",
       "      <td>Freelancer</td>\n",
       "      <td>Tinder</td>\n",
       "      <td>NaN</td>\n",
       "      <td>Daily</td>\n",
       "      <td>30 minutes</td>\n",
       "      <td>Social Interaction</td>\n",
       "      <td>1</td>\n",
       "      <td>NaN</td>\n",
       "      <td>Video Calls</td>\n",
       "      <td>Video Calls</td>\n",
       "      <td>Personality &gt; Interests &gt; Values</td>\n",
       "    </tr>\n",
       "    <tr>\n",
       "      <th>495</th>\n",
       "      <td>496</td>\n",
       "      <td>23</td>\n",
       "      <td>Female</td>\n",
       "      <td>Mumbai</td>\n",
       "      <td>Undergraduate</td>\n",
       "      <td>Intern</td>\n",
       "      <td>Tinder</td>\n",
       "      <td>Hinge</td>\n",
       "      <td>Weekly</td>\n",
       "      <td>1.5 hours</td>\n",
       "      <td>Casual Dating</td>\n",
       "      <td>2</td>\n",
       "      <td>NaN</td>\n",
       "      <td>Audio Calls</td>\n",
       "      <td>Voice Notes</td>\n",
       "      <td>Personality &gt; Interests &gt; Values</td>\n",
       "    </tr>\n",
       "    <tr>\n",
       "      <th>497</th>\n",
       "      <td>498</td>\n",
       "      <td>22</td>\n",
       "      <td>Male</td>\n",
       "      <td>Hyderabad</td>\n",
       "      <td>Graduate</td>\n",
       "      <td>Freelancer</td>\n",
       "      <td>NaN</td>\n",
       "      <td>Hinge</td>\n",
       "      <td>Monthly</td>\n",
       "      <td>2 hours</td>\n",
       "      <td>Casual Fun</td>\n",
       "      <td>2</td>\n",
       "      <td>Lack of Genuine Matches</td>\n",
       "      <td>Video Calls</td>\n",
       "      <td>Voice Notes</td>\n",
       "      <td>Appearance &gt; Interests &gt; Personality</td>\n",
       "    </tr>\n",
       "    <tr>\n",
       "      <th>499</th>\n",
       "      <td>500</td>\n",
       "      <td>22</td>\n",
       "      <td>Male</td>\n",
       "      <td>Mumbai</td>\n",
       "      <td>Graduate</td>\n",
       "      <td>Part-time Job</td>\n",
       "      <td>NaN</td>\n",
       "      <td>Hinge</td>\n",
       "      <td>Weekly</td>\n",
       "      <td>1.5 hours</td>\n",
       "      <td>Casual Fun</td>\n",
       "      <td>2</td>\n",
       "      <td>Time-Wasting</td>\n",
       "      <td>AI Recommendations</td>\n",
       "      <td>Video Calls</td>\n",
       "      <td>Appearance &gt; Interests &gt; Personality</td>\n",
       "    </tr>\n",
       "  </tbody>\n",
       "</table>\n",
       "<p>261 rows × 16 columns</p>\n",
       "</div>"
      ],
      "text/plain": [
       "     User_ID  Age      Gender   Location      Education     Occupation  \\\n",
       "2          3   24  Non-binary    Kolkata  Undergraduate         Intern   \n",
       "3          4   22  Non-binary      Delhi       Graduate  Full-time Job   \n",
       "5          6   23      Female     Mumbai  Undergraduate        Student   \n",
       "10        11   18      Female  Hyderabad   Postgraduate  Full-time Job   \n",
       "11        12   21        Male      Delhi  Undergraduate  Part-time Job   \n",
       "..       ...  ...         ...        ...            ...            ...   \n",
       "491      492   24      Female     Mumbai  Undergraduate  Part-time Job   \n",
       "493      494   20        Male     Mumbai  Undergraduate     Freelancer   \n",
       "495      496   23      Female     Mumbai  Undergraduate         Intern   \n",
       "497      498   22        Male  Hyderabad       Graduate     Freelancer   \n",
       "499      500   22        Male     Mumbai       Graduate  Part-time Job   \n",
       "\n",
       "    Primary_App Secondary_Apps Usage_Frequency Daily_Usage_Time  \\\n",
       "2           NaN            NaN          Weekly          2 hours   \n",
       "3           NaN        OkCupid           Daily       30 minutes   \n",
       "5       OkCupid            NaN           Daily        1.5 hours   \n",
       "10       Tinder          Hinge           Daily           1 hour   \n",
       "11          NaN            NaN         Monthly          3 hours   \n",
       "..          ...            ...             ...              ...   \n",
       "491      Bumble            NaN         Monthly           1 hour   \n",
       "493      Tinder            NaN           Daily       30 minutes   \n",
       "495      Tinder          Hinge          Weekly        1.5 hours   \n",
       "497         NaN          Hinge         Monthly          2 hours   \n",
       "499         NaN          Hinge          Weekly        1.5 hours   \n",
       "\n",
       "       Reason_for_Using  Satisfaction               Challenges  \\\n",
       "2         Casual Dating             4          Safety Concerns   \n",
       "3            Casual Fun             3                      NaN   \n",
       "5         Casual Dating             2                      NaN   \n",
       "10   Social Interaction             1                      NaN   \n",
       "11    Finding a Partner             1                      NaN   \n",
       "..                  ...           ...                      ...   \n",
       "491          Casual Fun             5          Safety Concerns   \n",
       "493  Social Interaction             1                      NaN   \n",
       "495       Casual Dating             2                      NaN   \n",
       "497          Casual Fun             2  Lack of Genuine Matches   \n",
       "499          Casual Fun             2             Time-Wasting   \n",
       "\n",
       "            Desired_Features Preferred_Communication  \\\n",
       "2          Detailed Profiles                    Text   \n",
       "3         AI Recommendations             Voice Notes   \n",
       "5                Audio Calls             Video Calls   \n",
       "10   Location-Based Matching             Voice Notes   \n",
       "11               Audio Calls             Voice Notes   \n",
       "..                       ...                     ...   \n",
       "491              Audio Calls             Voice Notes   \n",
       "493              Video Calls             Video Calls   \n",
       "495              Audio Calls             Voice Notes   \n",
       "497              Video Calls             Voice Notes   \n",
       "499       AI Recommendations             Video Calls   \n",
       "\n",
       "                       Partner_Priorities  \n",
       "2       Values > Personality > Appearance  \n",
       "3        Personality > Interests > Values  \n",
       "5       Values > Personality > Appearance  \n",
       "10   Appearance > Interests > Personality  \n",
       "11   Appearance > Interests > Personality  \n",
       "..                                    ...  \n",
       "491  Appearance > Interests > Personality  \n",
       "493      Personality > Interests > Values  \n",
       "495      Personality > Interests > Values  \n",
       "497  Appearance > Interests > Personality  \n",
       "499  Appearance > Interests > Personality  \n",
       "\n",
       "[261 rows x 16 columns]"
      ]
     },
     "execution_count": 8,
     "metadata": {},
     "output_type": "execute_result"
    }
   ],
   "source": [
    "dating[dating.isnull().any(axis=1)]"
   ]
  },
  {
   "cell_type": "code",
   "execution_count": 9,
   "id": "d79e2436-a21a-49cb-8d2d-0972907314ec",
   "metadata": {},
   "outputs": [
    {
     "name": "stdout",
     "output_type": "stream",
     "text": [
      "User_ID                     0.0\n",
      "Age                         0.0\n",
      "Gender                      0.0\n",
      "Location                    0.0\n",
      "Education                   0.0\n",
      "Occupation                  0.0\n",
      "Primary_App                21.4\n",
      "Secondary_Apps             22.8\n",
      "Usage_Frequency             0.0\n",
      "Daily_Usage_Time            0.0\n",
      "Reason_for_Using            0.0\n",
      "Satisfaction                0.0\n",
      "Challenges                 23.4\n",
      "Desired_Features            0.0\n",
      "Preferred_Communication     0.0\n",
      "Partner_Priorities          0.0\n",
      "dtype: float64\n"
     ]
    }
   ],
   "source": [
    "missing_percentage = dating.isnull().mean() * 100\n",
    "print(missing_percentage)"
   ]
  },
  {
   "cell_type": "code",
   "execution_count": 10,
   "id": "a18b3e32-2238-4542-8100-5abc06948fdd",
   "metadata": {},
   "outputs": [
    {
     "name": "stdout",
     "output_type": "stream",
     "text": [
      "<class 'pandas.core.frame.DataFrame'>\n",
      "RangeIndex: 500 entries, 0 to 499\n",
      "Data columns (total 16 columns):\n",
      " #   Column                   Non-Null Count  Dtype \n",
      "---  ------                   --------------  ----- \n",
      " 0   User_ID                  500 non-null    int64 \n",
      " 1   Age                      500 non-null    int64 \n",
      " 2   Gender                   500 non-null    object\n",
      " 3   Location                 500 non-null    object\n",
      " 4   Education                500 non-null    object\n",
      " 5   Occupation               500 non-null    object\n",
      " 6   Primary_App              393 non-null    object\n",
      " 7   Secondary_Apps           386 non-null    object\n",
      " 8   Usage_Frequency          500 non-null    object\n",
      " 9   Daily_Usage_Time         500 non-null    object\n",
      " 10  Reason_for_Using         500 non-null    object\n",
      " 11  Satisfaction             500 non-null    int64 \n",
      " 12  Challenges               383 non-null    object\n",
      " 13  Desired_Features         500 non-null    object\n",
      " 14  Preferred_Communication  500 non-null    object\n",
      " 15  Partner_Priorities       500 non-null    object\n",
      "dtypes: int64(3), object(13)\n",
      "memory usage: 62.6+ KB\n"
     ]
    }
   ],
   "source": [
    "dating.info()\n"
   ]
  },
  {
   "cell_type": "code",
   "execution_count": 14,
   "id": "3b45f7a8-7f85-47bf-bb34-2a67f572234f",
   "metadata": {},
   "outputs": [
    {
     "name": "stdout",
     "output_type": "stream",
     "text": [
      "Number of males: 171\n"
     ]
    }
   ],
   "source": [
    "num_males = dating[dating['Gender'] == 'Male'].shape[0]\n",
    "print(f\"Number of males: {num_males}\")"
   ]
  },
  {
   "cell_type": "code",
   "execution_count": 15,
   "id": "9d6d0ba0-9180-4afb-b61f-6e17380bdf28",
   "metadata": {},
   "outputs": [
    {
     "name": "stdout",
     "output_type": "stream",
     "text": [
      "Number of females: 176\n"
     ]
    }
   ],
   "source": [
    "num_females = dating[dating['Gender'] == 'Female'].shape[0]\n",
    "print(f\"Number of females: {num_females}\")"
   ]
  },
  {
   "cell_type": "code",
   "execution_count": 17,
   "id": "5c022ce9-11ef-4037-8957-6370b7533433",
   "metadata": {},
   "outputs": [
    {
     "data": {
      "text/plain": [
       "Gender\n",
       "Female        35.2\n",
       "Male          34.2\n",
       "Non-binary    30.6\n",
       "Name: proportion, dtype: float64"
      ]
     },
     "execution_count": 17,
     "metadata": {},
     "output_type": "execute_result"
    }
   ],
   "source": [
    "dating['Gender'].value_counts(normalize=True)*100"
   ]
  },
  {
   "cell_type": "code",
   "execution_count": 18,
   "id": "385416d1-5676-4231-88e0-b29160488263",
   "metadata": {},
   "outputs": [
    {
     "data": {
      "text/plain": [
       "Gender\n",
       "Female        35.20%\n",
       "Male          34.20%\n",
       "Non-binary    30.60%\n",
       "Name: proportion, dtype: object"
      ]
     },
     "execution_count": 18,
     "metadata": {},
     "output_type": "execute_result"
    }
   ],
   "source": [
    "dating['Gender'].value_counts(normalize=True).mul(100).map('{:.2f}%'.format)"
   ]
  },
  {
   "cell_type": "code",
   "execution_count": 19,
   "id": "49ab2e38-ab42-4b28-9dda-f5061d5d47c4",
   "metadata": {},
   "outputs": [
    {
     "name": "stdout",
     "output_type": "stream",
     "text": [
      "Number of columns with missing values: 3\n"
     ]
    }
   ],
   "source": [
    "missing_columns = dating.isnull().sum()\n",
    "missing_columns = missing_columns[missing_columns > 0]\n",
    "\n",
    "# Number of columns with missing values\n",
    "num_missing_columns = missing_columns.count()\n",
    "\n",
    "print(f'Number of columns with missing values: {num_missing_columns}')"
   ]
  },
  {
   "cell_type": "code",
   "execution_count": 20,
   "id": "9a605f79-4d21-480e-8f86-51b9e19f352d",
   "metadata": {},
   "outputs": [
    {
     "name": "stdout",
     "output_type": "stream",
     "text": [
      "Columns with missing values: Index(['Primary_App', 'Secondary_Apps', 'Challenges'], dtype='object')\n"
     ]
    }
   ],
   "source": [
    "# Find columns with missing values\n",
    "missing_columns = dating.isnull().sum()\n",
    "missing_columns = missing_columns[missing_columns > 0]\n",
    "\n",
    "# Get the names of columns with missing values\n",
    "missing_column_names = missing_columns.index\n",
    "\n",
    "print('Columns with missing values:', missing_column_names)"
   ]
  },
  {
   "cell_type": "code",
   "execution_count": 21,
   "id": "25d6733b-0fd0-4fe6-a18d-480708e1be1f",
   "metadata": {},
   "outputs": [
    {
     "name": "stdout",
     "output_type": "stream",
     "text": [
      "User_ID                     int64\n",
      "Age                         int64\n",
      "Gender                     object\n",
      "Location                   object\n",
      "Education                  object\n",
      "Occupation                 object\n",
      "Primary_App                object\n",
      "Secondary_Apps             object\n",
      "Usage_Frequency            object\n",
      "Daily_Usage_Time           object\n",
      "Reason_for_Using           object\n",
      "Satisfaction                int64\n",
      "Challenges                 object\n",
      "Desired_Features           object\n",
      "Preferred_Communication    object\n",
      "Partner_Priorities         object\n",
      "dtype: object\n"
     ]
    }
   ],
   "source": [
    "# Check the data types of the columns\n",
    "column_types = dating.dtypes\n",
    "\n",
    "print(column_types)"
   ]
  },
  {
   "cell_type": "code",
   "execution_count": 22,
   "id": "437774e8-38c1-4212-a258-f693cbe071bb",
   "metadata": {},
   "outputs": [
    {
     "name": "stdout",
     "output_type": "stream",
     "text": [
      "User_ID                     int64\n",
      "Age                         int64\n",
      "Gender                     object\n",
      "Location                   object\n",
      "Education                  object\n",
      "Occupation                 object\n",
      "Primary_App                object\n",
      "Secondary_Apps             object\n",
      "Usage_Frequency            object\n",
      "Daily_Usage_Time           object\n",
      "Reason_for_Using           object\n",
      "Satisfaction                int64\n",
      "Challenges                 object\n",
      "Desired_Features           object\n",
      "Preferred_Communication    object\n",
      "Partner_Priorities         object\n",
      "dtype: object\n"
     ]
    }
   ],
   "source": [
    "# Show the actual data types of the columns\n",
    "column_types = dating.dtypes\n",
    "\n",
    "print(column_types)"
   ]
  },
  {
   "cell_type": "code",
   "execution_count": 25,
   "id": "cb274601-77e8-490a-b735-dbaf7dc754c6",
   "metadata": {},
   "outputs": [
    {
     "name": "stdout",
     "output_type": "stream",
     "text": [
      "                                     Column Name Data Type\n",
      "User_ID                                  User_ID       int\n",
      "Age                                          Age       int\n",
      "Gender                                    Gender    string\n",
      "Location                                Location    string\n",
      "Education                              Education    string\n",
      "Occupation                            Occupation    string\n",
      "Primary_App                          Primary_App    string\n",
      "Secondary_Apps                    Secondary_Apps    string\n",
      "Usage_Frequency                  Usage_Frequency    string\n",
      "Daily_Usage_Time                Daily_Usage_Time    string\n",
      "Reason_for_Using                Reason_for_Using    string\n",
      "Satisfaction                        Satisfaction       int\n",
      "Challenges                            Challenges    string\n",
      "Desired_Features                Desired_Features    string\n",
      "Preferred_Communication  Preferred_Communication    string\n",
      "Partner_Priorities            Partner_Priorities    string\n"
     ]
    }
   ],
   "source": [
    "# Get the data types of each column\n",
    "column_types = dating.dtypes\n",
    "\n",
    "# Create a dictionary to map the pandas data types to 'int', 'float', and 'string'\n",
    "data_type_map = {\n",
    "    'int64': 'int',\n",
    "    'float64': 'float',\n",
    "    'object': 'string'\n",
    "}\n",
    "\n",
    "# Map the data types of the columns to 'int', 'float', or 'string'\n",
    "column_with_types = column_types.map(lambda x: data_type_map.get(str(x), 'other'))\n",
    "\n",
    "# Combine the column names and their mapped types into a DataFrame\n",
    "column_info = pd.DataFrame({\n",
    "    'Column Name': column_types.index,\n",
    "    'Data Type': column_with_types\n",
    "})\n",
    "\n",
    "print(column_info)"
   ]
  },
  {
   "cell_type": "code",
   "execution_count": 26,
   "id": "9557021c-5761-47c4-abef-b2adb33c08f7",
   "metadata": {},
   "outputs": [
    {
     "name": "stdout",
     "output_type": "stream",
     "text": [
      "<class 'pandas.core.frame.DataFrame'>\n",
      "RangeIndex: 500 entries, 0 to 499\n",
      "Data columns (total 16 columns):\n",
      " #   Column                   Non-Null Count  Dtype \n",
      "---  ------                   --------------  ----- \n",
      " 0   User_ID                  500 non-null    int64 \n",
      " 1   Age                      500 non-null    int64 \n",
      " 2   Gender                   500 non-null    object\n",
      " 3   Location                 500 non-null    object\n",
      " 4   Education                500 non-null    object\n",
      " 5   Occupation               500 non-null    object\n",
      " 6   Primary_App              393 non-null    object\n",
      " 7   Secondary_Apps           386 non-null    object\n",
      " 8   Usage_Frequency          500 non-null    object\n",
      " 9   Daily_Usage_Time         500 non-null    object\n",
      " 10  Reason_for_Using         500 non-null    object\n",
      " 11  Satisfaction             500 non-null    int64 \n",
      " 12  Challenges               383 non-null    object\n",
      " 13  Desired_Features         500 non-null    object\n",
      " 14  Preferred_Communication  500 non-null    object\n",
      " 15  Partner_Priorities       500 non-null    object\n",
      "dtypes: int64(3), object(13)\n",
      "memory usage: 62.6+ KB\n"
     ]
    }
   ],
   "source": [
    "dating.info()"
   ]
  },
  {
   "cell_type": "code",
   "execution_count": 27,
   "id": "4b3f7c88-8e08-4cdf-a97b-0b17261cbcd3",
   "metadata": {},
   "outputs": [
    {
     "name": "stdout",
     "output_type": "stream",
     "text": [
      "                                     Column Name Data Type  \\\n",
      "User_ID                                  User_ID       int   \n",
      "Age                                          Age       int   \n",
      "Gender                                    Gender    string   \n",
      "Location                                Location    string   \n",
      "Education                              Education    string   \n",
      "Occupation                            Occupation    string   \n",
      "Primary_App                          Primary_App    string   \n",
      "Secondary_Apps                    Secondary_Apps    string   \n",
      "Usage_Frequency                  Usage_Frequency    string   \n",
      "Daily_Usage_Time                Daily_Usage_Time    string   \n",
      "Reason_for_Using                Reason_for_Using    string   \n",
      "Satisfaction                        Satisfaction       int   \n",
      "Challenges                            Challenges    string   \n",
      "Desired_Features                Desired_Features    string   \n",
      "Preferred_Communication  Preferred_Communication    string   \n",
      "Partner_Priorities            Partner_Priorities    string   \n",
      "\n",
      "                                                             Sample Values  \n",
      "User_ID                                                    [1, 2, 3, 4, 5]  \n",
      "Age                                                   [20, 24, 24, 22, 18]  \n",
      "Gender                   [Non-binary, Female, Non-binary, Non-binary, M...  \n",
      "Location                         [Bangalore, Delhi, Kolkata, Delhi, Delhi]  \n",
      "Education                [Undergraduate, Undergraduate, Undergraduate, ...  \n",
      "Occupation               [Freelancer, Part-time Job, Intern, Full-time ...  \n",
      "Primary_App                              [Hinge, Hinge, nan, nan, OkCupid]  \n",
      "Secondary_Apps                     [Hinge, OkCupid, nan, OkCupid, OkCupid]  \n",
      "Usage_Frequency                   [Monthly, Weekly, Weekly, Daily, Weekly]  \n",
      "Daily_Usage_Time         [1 hour, 30 minutes, 2 hours, 30 minutes, 2 ho...  \n",
      "Reason_for_Using         [Finding a Partner, Casual Dating, Casual Dati...  \n",
      "Satisfaction                                               [4, 5, 4, 3, 4]  \n",
      "Challenges               [Safety Concerns, Time-Wasting, Safety Concern...  \n",
      "Desired_Features         [Audio Calls, Video Calls, Detailed Profiles, ...  \n",
      "Preferred_Communication       [Video Calls, Text, Text, Voice Notes, Text]  \n",
      "Partner_Priorities       [Values > Personality > Appearance, Values > P...  \n"
     ]
    }
   ],
   "source": [
    "# Get the data types of each column\n",
    "column_types = dating.dtypes\n",
    "\n",
    "# Create a dictionary to map the pandas data types to 'int', 'float', and 'string'\n",
    "data_type_map = {\n",
    "    'int64': 'int',\n",
    "    'float64': 'float',\n",
    "    'object': 'string'\n",
    "}\n",
    "\n",
    "# Map the data types of the columns to 'int', 'float', or 'string'\n",
    "column_with_types = column_types.map(lambda x: data_type_map.get(str(x), 'other'))\n",
    "\n",
    "# Create a DataFrame to show the column name, data type, and a preview of the first few values\n",
    "column_info = pd.DataFrame({\n",
    "    'Column Name': column_types.index,\n",
    "    'Data Type': column_with_types,\n",
    "    'Sample Values': [dating[col].head().tolist() for col in dating.columns]\n",
    "})\n",
    "\n",
    "print(column_info)"
   ]
  },
  {
   "cell_type": "code",
   "execution_count": 29,
   "id": "ad2337c8-f856-42bb-980a-af0fc79adc17",
   "metadata": {},
   "outputs": [
    {
     "name": "stdout",
     "output_type": "stream",
     "text": [
      "User_ID                       int64\n",
      "Age                           int64\n",
      "Gender                     category\n",
      "Location                   category\n",
      "Education                  category\n",
      "Occupation                 category\n",
      "Primary_App                category\n",
      "Secondary_Apps             category\n",
      "Usage_Frequency            category\n",
      "Daily_Usage_Time           category\n",
      "Reason_for_Using           category\n",
      "Satisfaction                  int64\n",
      "Challenges                 category\n",
      "Desired_Features           category\n",
      "Preferred_Communication    category\n",
      "Partner_Priorities         category\n",
      "dtype: object\n"
     ]
    }
   ],
   "source": [
    "for col in dating.select_dtypes(include=['object']).columns:\n",
    "    dating[col] = dating[col].astype('category' if dating[col].nunique() < 10 else str)\n",
    "\n",
    "for col in dating.select_dtypes(include=['int64']).columns:\n",
    "    dating[col] = dating[col].astype(int)\n",
    "\n",
    "for col in dating.select_dtypes(include=['float64']).columns:\n",
    "    dating[col] = dating[col].astype(float)\n",
    "\n",
    "print(dating.dtypes)  # Check changes"
   ]
  },
  {
   "cell_type": "code",
   "execution_count": 30,
   "id": "e5b3031f-ac7d-4042-8e0a-991f680cad9a",
   "metadata": {},
   "outputs": [
    {
     "name": "stdout",
     "output_type": "stream",
     "text": [
      "<class 'pandas.core.frame.DataFrame'>\n",
      "RangeIndex: 500 entries, 0 to 499\n",
      "Data columns (total 16 columns):\n",
      " #   Column                   Non-Null Count  Dtype   \n",
      "---  ------                   --------------  -----   \n",
      " 0   User_ID                  500 non-null    int64   \n",
      " 1   Age                      500 non-null    int64   \n",
      " 2   Gender                   500 non-null    category\n",
      " 3   Location                 500 non-null    category\n",
      " 4   Education                500 non-null    category\n",
      " 5   Occupation               500 non-null    category\n",
      " 6   Primary_App              393 non-null    category\n",
      " 7   Secondary_Apps           386 non-null    category\n",
      " 8   Usage_Frequency          500 non-null    category\n",
      " 9   Daily_Usage_Time         500 non-null    category\n",
      " 10  Reason_for_Using         500 non-null    category\n",
      " 11  Satisfaction             500 non-null    int64   \n",
      " 12  Challenges               383 non-null    category\n",
      " 13  Desired_Features         500 non-null    category\n",
      " 14  Preferred_Communication  500 non-null    category\n",
      " 15  Partner_Priorities       500 non-null    category\n",
      "dtypes: category(13), int64(3)\n",
      "memory usage: 20.5 KB\n"
     ]
    }
   ],
   "source": [
    "dating.info()"
   ]
  },
  {
   "cell_type": "code",
   "execution_count": 31,
   "id": "7d1a01ea-d70b-4f9d-9056-faaae7a87e26",
   "metadata": {},
   "outputs": [
    {
     "name": "stdout",
     "output_type": "stream",
     "text": [
      "User_ID                      0\n",
      "Age                          0\n",
      "Gender                       0\n",
      "Location                     0\n",
      "Education                    0\n",
      "Occupation                   0\n",
      "Primary_App                107\n",
      "Secondary_Apps             114\n",
      "Usage_Frequency              0\n",
      "Daily_Usage_Time             0\n",
      "Reason_for_Using             0\n",
      "Satisfaction                 0\n",
      "Challenges                 117\n",
      "Desired_Features             0\n",
      "Preferred_Communication      0\n",
      "Partner_Priorities           0\n",
      "dtype: int64\n"
     ]
    }
   ],
   "source": [
    "print(dating.isnull().sum())  # Count missing values per column"
   ]
  },
  {
   "cell_type": "code",
   "execution_count": 32,
   "id": "eb5d2a5a-f5f2-4693-8297-72e797f98782",
   "metadata": {},
   "outputs": [
    {
     "name": "stdout",
     "output_type": "stream",
     "text": [
      "User_ID                     0.0\n",
      "Age                         0.0\n",
      "Gender                      0.0\n",
      "Location                    0.0\n",
      "Education                   0.0\n",
      "Occupation                  0.0\n",
      "Primary_App                21.4\n",
      "Secondary_Apps             22.8\n",
      "Usage_Frequency             0.0\n",
      "Daily_Usage_Time            0.0\n",
      "Reason_for_Using            0.0\n",
      "Satisfaction                0.0\n",
      "Challenges                 23.4\n",
      "Desired_Features            0.0\n",
      "Preferred_Communication     0.0\n",
      "Partner_Priorities          0.0\n",
      "dtype: float64\n"
     ]
    }
   ],
   "source": [
    "print((dating.isnull().sum() / len(dating)) * 100)"
   ]
  },
  {
   "cell_type": "code",
   "execution_count": 34,
   "id": "146d8890-d74a-4798-a83b-9a781f1c010c",
   "metadata": {},
   "outputs": [],
   "source": [
    "dating['Satisfaction'] = dating['Satisfaction'].fillna(dating['Satisfaction'].median())"
   ]
  },
  {
   "cell_type": "code",
   "execution_count": 35,
   "id": "75e3d01d-1fe8-4189-a078-d7c855656d3f",
   "metadata": {},
   "outputs": [
    {
     "name": "stdout",
     "output_type": "stream",
     "text": [
      "Missing values per column:\n",
      " User_ID                      0\n",
      "Age                          0\n",
      "Gender                       0\n",
      "Location                     0\n",
      "Education                    0\n",
      "Occupation                   0\n",
      "Primary_App                107\n",
      "Secondary_Apps             114\n",
      "Usage_Frequency              0\n",
      "Daily_Usage_Time             0\n",
      "Reason_for_Using             0\n",
      "Satisfaction                 0\n",
      "Challenges                 117\n",
      "Desired_Features             0\n",
      "Preferred_Communication      0\n",
      "Partner_Priorities           0\n",
      "dtype: int64\n"
     ]
    }
   ],
   "source": [
    "missing_values = dating.isnull().sum()\n",
    "print(\"Missing values per column:\\n\", missing_values)"
   ]
  },
  {
   "cell_type": "code",
   "execution_count": 37,
   "id": "45889540-0bee-4ca0-8d52-b95d0ed27c6d",
   "metadata": {},
   "outputs": [],
   "source": [
    "# Loop through the columns that are categorical\n",
    "for column in columns_to_fill_unknown:\n",
    "    if dating[column].dtype.name == 'category':  # Check if the column is categorical\n",
    "        # Add 'None' as a category\n",
    "        dating[column] = dating[column].cat.add_categories('None')\n",
    "    \n",
    "    # Fill the missing values with 'None'\n",
    "    dating[column] = dating[column].fillna('None')\n"
   ]
  },
  {
   "cell_type": "code",
   "execution_count": 38,
   "id": "96f91d67-59c8-486f-847d-ec86562d6b16",
   "metadata": {},
   "outputs": [
    {
     "name": "stdout",
     "output_type": "stream",
     "text": [
      "Missing values per column:\n",
      " User_ID                    0\n",
      "Age                        0\n",
      "Gender                     0\n",
      "Location                   0\n",
      "Education                  0\n",
      "Occupation                 0\n",
      "Primary_App                0\n",
      "Secondary_Apps             0\n",
      "Usage_Frequency            0\n",
      "Daily_Usage_Time           0\n",
      "Reason_for_Using           0\n",
      "Satisfaction               0\n",
      "Challenges                 0\n",
      "Desired_Features           0\n",
      "Preferred_Communication    0\n",
      "Partner_Priorities         0\n",
      "dtype: int64\n"
     ]
    }
   ],
   "source": [
    "missing_values = dating.isnull().sum()\n",
    "print(\"Missing values per column:\\n\", missing_values)"
   ]
  },
  {
   "cell_type": "code",
   "execution_count": 40,
   "id": "147a26b7-823c-4b75-8d89-7a4a45da5062",
   "metadata": {},
   "outputs": [
    {
     "name": "stdout",
     "output_type": "stream",
     "text": [
      "Index(['User_ID', 'Age', 'Gender', 'Location', 'Education', 'Occupation',\n",
      "       'Primary_App', 'Secondary_Apps', 'Usage_Frequency', 'Daily_Usage_Time',\n",
      "       'Reason_for_Using', 'Satisfaction', 'Challenges', 'Desired_Features',\n",
      "       'Preferred_Communication', 'Partner_Priorities'],\n",
      "      dtype='object')\n"
     ]
    }
   ],
   "source": [
    "# Check the column names in the DataFrame\n",
    "print(dating.columns)"
   ]
  },
  {
   "cell_type": "code",
   "execution_count": 41,
   "id": "548f79bd-eb92-48f5-ac45-77e7f95e6c5e",
   "metadata": {},
   "outputs": [],
   "source": [
    "# Strip any leading/trailing spaces from column names\n",
    "dating.columns = dating.columns.str.strip()"
   ]
  },
  {
   "cell_type": "code",
   "execution_count": 42,
   "id": "3192aad7-2834-41a1-a071-111669ce1130",
   "metadata": {},
   "outputs": [],
   "source": [
    "# If the column is named 'Age', change 'age' to 'Age'\n",
    "age_column = dating['Age']\n"
   ]
  },
  {
   "cell_type": "code",
   "execution_count": 43,
   "id": "e609b40d-03fa-40aa-9427-52da122f3a5e",
   "metadata": {},
   "outputs": [
    {
     "name": "stdout",
     "output_type": "stream",
     "text": [
      "count    500.000000\n",
      "mean      21.582000\n",
      "std        2.259532\n",
      "min       18.000000\n",
      "25%       20.000000\n",
      "50%       22.000000\n",
      "75%       24.000000\n",
      "max       25.000000\n",
      "Name: Age, dtype: float64\n",
      "Mean age: 21.582\n",
      "Median age: 22.0\n",
      "Standard Deviation of age: 2.2595324680003803\n",
      "Minimum age: 18\n",
      "Maximum age: 25\n",
      "Variance of age: 5.10548697394789\n",
      "Non-NA count of age: 500\n"
     ]
    }
   ],
   "source": [
    "# Perform basic statistical analysis on the 'age' column\n",
    "age_stats = age_column.describe()  # Provides count, mean, std, min, 25%, 50%, 75%, max\n",
    "print(age_stats)\n",
    "\n",
    "# Additional statistical analysis\n",
    "mean_age = age_column.mean()  # Mean\n",
    "median_age = age_column.median()  # Median (50th percentile)\n",
    "std_age = age_column.std()  # Standard deviation\n",
    "min_age = age_column.min()  # Minimum value\n",
    "max_age = age_column.max()  # Maximum value\n",
    "variance_age = age_column.var()  # Variance\n",
    "count_age = age_column.count()  # Non-NA/null entries count\n",
    "\n",
    "# Print additional statistics\n",
    "print(f'Mean age: {mean_age}')\n",
    "print(f'Median age: {median_age}')\n",
    "print(f'Standard Deviation of age: {std_age}')\n",
    "print(f'Minimum age: {min_age}')\n",
    "print(f'Maximum age: {max_age}')\n",
    "print(f'Variance of age: {variance_age}')\n",
    "print(f'Non-NA count of age: {count_age}')\n"
   ]
  },
  {
   "cell_type": "code",
   "execution_count": 45,
   "id": "46f4c0b3-7d6a-4e45-89ab-43eda070c446",
   "metadata": {},
   "outputs": [
    {
     "data": {
      "image/png": "[encoded data removed]",
      "text/plain": [
       "<Figure size 1000x600 with 1 Axes>"
      ]
     },
     "metadata": {},
     "output_type": "display_data"
    }
   ],
   "source": [
    "import matplotlib.pyplot as plt\n",
    "\n",
    "# Select the 'age' column (use the correct column name)\n",
    "age_column = dating['Age']\n",
    "\n",
    "# Plot the histogram\n",
    "plt.figure(figsize=(10, 6))  # Optional: set the size of the figure\n",
    "plt.hist(age_column, bins=20, color='skyblue', edgecolor='black')  # Customize bins, color, etc.\n",
    "plt.title('Distribution of Age')  # Title of the plot\n",
    "plt.xlabel('Age')  # X-axis label\n",
    "plt.ylabel('Frequency')  # Y-axis label\n",
    "plt.grid(True)  # Optional: add grid for better readability\n",
    "plt.show()\n"
   ]
  },
  {
   "cell_type": "code",
   "execution_count": 48,
   "id": "175d13f2-8d0f-4538-9409-88a2786716f4",
   "metadata": {},
   "outputs": [
    {
     "name": "stdout",
     "output_type": "stream",
     "text": [
      "Collecting seaborn\n",
      "  Downloading seaborn-0.13.2-py3-none-any.whl.metadata (5.4 kB)\n",
      "Requirement already satisfied: numpy!=1.24.0,>=1.20 in c:\\users\\kuman\\anaconda3\\envs\\ml\\lib\\site-packages (from seaborn) (2.2.1)\n",
      "Requirement already satisfied: pandas>=1.2 in c:\\users\\kuman\\anaconda3\\envs\\ml\\lib\\site-packages (from seaborn) (2.2.3)\n",
      "Requirement already satisfied: matplotlib!=3.6.1,>=3.4 in c:\\users\\kuman\\anaconda3\\envs\\ml\\lib\\site-packages (from seaborn) (3.10.0)\n",
      "Requirement already satisfied: contourpy>=1.0.1 in c:\\users\\kuman\\anaconda3\\envs\\ml\\lib\\site-packages (from matplotlib!=3.6.1,>=3.4->seaborn) (1.3.1)\n",
      "Requirement already satisfied: cycler>=0.10 in c:\\users\\kuman\\anaconda3\\envs\\ml\\lib\\site-packages (from matplotlib!=3.6.1,>=3.4->seaborn) (0.12.1)\n",
      "Requirement already satisfied: fonttools>=4.22.0 in c:\\users\\kuman\\anaconda3\\envs\\ml\\lib\\site-packages (from matplotlib!=3.6.1,>=3.4->seaborn) (4.55.8)\n",
      "Requirement already satisfied: kiwisolver>=1.3.1 in c:\\users\\kuman\\anaconda3\\envs\\ml\\lib\\site-packages (from matplotlib!=3.6.1,>=3.4->seaborn) (1.4.8)\n",
      "Requirement already satisfied: packaging>=20.0 in c:\\users\\kuman\\anaconda3\\envs\\ml\\lib\\site-packages (from matplotlib!=3.6.1,>=3.4->seaborn) (24.2)\n",
      "Requirement already satisfied: pillow>=8 in c:\\users\\kuman\\anaconda3\\envs\\ml\\lib\\site-packages (from matplotlib!=3.6.1,>=3.4->seaborn) (11.1.0)\n",
      "Requirement already satisfied: pyparsing>=2.3.1 in c:\\users\\kuman\\anaconda3\\envs\\ml\\lib\\site-packages (from matplotlib!=3.6.1,>=3.4->seaborn) (3.2.1)\n",
      "Requirement already satisfied: python-dateutil>=2.7 in c:\\users\\kuman\\anaconda3\\envs\\ml\\lib\\site-packages (from matplotlib!=3.6.1,>=3.4->seaborn) (2.9.0.post0)\n",
      "Requirement already satisfied: pytz>=2020.1 in c:\\users\\kuman\\anaconda3\\envs\\ml\\lib\\site-packages (from pandas>=1.2->seaborn) (2024.1)\n",
      "Requirement already satisfied: tzdata>=2022.7 in c:\\users\\kuman\\anaconda3\\envs\\ml\\lib\\site-packages (from pandas>=1.2->seaborn) (2023.3)\n",
      "Requirement already satisfied: six>=1.5 in c:\\users\\kuman\\anaconda3\\envs\\ml\\lib\\site-packages (from python-dateutil>=2.7->matplotlib!=3.6.1,>=3.4->seaborn) (1.16.0)\n",
      "Downloading seaborn-0.13.2-py3-none-any.whl (294 kB)\n",
      "Installing collected packages: seaborn\n",
      "Successfully installed seaborn-0.13.2\n",
      "Note: you may need to restart the kernel to use updated packages.\n"
     ]
    }
   ],
   "source": [
    "pip install seaborn\n"
   ]
  },
  {
   "cell_type": "code",
   "execution_count": 49,
   "id": "035c3c63-d8cf-473a-9f1e-c84c06364afc",
   "metadata": {},
   "outputs": [],
   "source": [
    "import seaborn as sns\n"
   ]
  },
  {
   "cell_type": "code",
   "execution_count": 50,
   "id": "26f0afcb-195f-4955-a2ea-c433a3b5037c",
   "metadata": {},
   "outputs": [
    {
     "name": "stdout",
     "output_type": "stream",
     "text": [
      "Primary_App\n",
      "OkCupid    118\n",
      "None       107\n",
      "Hinge      106\n",
      "Bumble      93\n",
      "Tinder      76\n",
      "Name: count, dtype: int64\n"
     ]
    },
    {
     "name": "stderr",
     "output_type": "stream",
     "text": [
      "C:\\Users\\kuman\\AppData\\Local\\Temp\\ipykernel_2372\\1797865760.py:9: FutureWarning: \n",
      "\n",
      "Passing `palette` without assigning `hue` is deprecated and will be removed in v0.14.0. Assign the `x` variable to `hue` and set `legend=False` for the same effect.\n",
      "\n",
      "  sns.countplot(x='Primary_App', data=dating, palette='Set2')  # Countplot gives the distribution of categorical data\n"
     ]
    },
    {
     "data": {
      "image/png": "[encoded data removed]",
      "text/plain": [
       "<Figure size 1000x600 with 1 Axes>"
      ]
     },
     "metadata": {},
     "output_type": "display_data"
    }
   ],
   "source": [
    "import matplotlib.pyplot as plt\n",
    "import seaborn as sns\n",
    "\n",
    "# Check the unique values in the 'Primary_App' column to understand the categories\n",
    "print(dating['Primary_App'].value_counts())\n",
    "\n",
    "# Plot the distribution of the 'Primary_App' column\n",
    "plt.figure(figsize=(10, 6))  # Optional: set the size of the figure\n",
    "sns.countplot(x='Primary_App', data=dating, palette='Set2')  # Countplot gives the distribution of categorical data\n",
    "\n",
    "# Title and labels\n",
    "plt.title('Distribution of Primary App Usage', fontsize=16)\n",
    "plt.xlabel('Primary App', fontsize=12)\n",
    "plt.ylabel('Frequency', fontsize=12)\n",
    "plt.xticks(rotation=45)  # Rotate x-axis labels if needed\n",
    "plt.grid(True)  # Optional: add grid for better readability\n",
    "plt.show()\n"
   ]
  },
  {
   "cell_type": "code",
   "execution_count": null,
   "id": "15dbeaaa-65b1-4af2-95fb-a6a55722f53f",
   "metadata": {},
   "outputs": [],
   "source": []
  }
 ],
 "metadata": {
  "kernelspec": {
   "display_name": "Python 3 (ipykernel)",
   "language": "python",
   "name": "python3"
  },
  "language_info": {
   "codemirror_mode": {
    "name": "ipython",
    "version": 3
   },
   "file_extension": ".py",
   "mimetype": "text/x-python",
   "name": "python",
   "nbconvert_exporter": "python",
   "pygments_lexer": "ipython3",
   "version": "3.12.8"
  }
 },
 "nbformat": 4,
 "nbformat_minor": 5
}
